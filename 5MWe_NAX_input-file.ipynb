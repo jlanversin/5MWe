{
 "cells": [
  {
   "cell_type": "code",
   "execution_count": 0,
   "metadata": {
    "collapsed": false
   },
   "outputs": [
   ],
   "source": [
   ]
  },
  {
   "cell_type": "markdown",
   "metadata": {
    "collapsed": false
   },
   "source": [
    "# 5-MWe - nuclear archaeology\n",
    "\n"
   ]
  },
  {
   "cell_type": "raw",
   "metadata": {
    "collapsed": false
   },
   "source": [
    "This notebook presents a script that uses the functionalities of the nuclear archaeology module of ONIX to find the isotopic ratios that are the most sensitive to fluence in the 5-MWe reactor. In a practical setting, using these isotopic ratios allows to measure fluence with minimal unertainties.\n",
    "\n",
    "This script uses neutronics results from the simulation \"5-MWe - reactor simulation\" in the Reactor Simulations section from the examples in this documentation."
   ]
  },
  {
   "cell_type": "code",
   "execution_count": 1,
   "metadata": {
    "collapsed": false,
    "scrolled": true
   },
   "outputs": [
    {
     "ename": "ModuleNotFoundError",
     "evalue": "No module named 'onix'",
     "output_type": "error",
     "traceback": [
      "\u001b[0;31m---------------------------------------------------------------------------\u001b[0m",
      "\u001b[0;31mModuleNotFoundError\u001b[0m                       Traceback (most recent call last)",
      "\u001b[0;32m<ipython-input-1-4419ce8565d1>\u001b[0m in \u001b[0;36m<module>\u001b[0;34m\u001b[0m\n\u001b[0;32m----> 1\u001b[0;31m \u001b[0;32mimport\u001b[0m \u001b[0monix\u001b[0m\u001b[0;34m.\u001b[0m\u001b[0mnax\u001b[0m \u001b[0;32mas\u001b[0m \u001b[0mnax\u001b[0m\u001b[0;34m\u001b[0m\u001b[0;34m\u001b[0m\u001b[0m\n\u001b[0m",
      "\u001b[0;31mModuleNotFoundError\u001b[0m: No module named 'onix'"
     ]
    }
   ],
   "source": [
    "import onix.nax as nax\n",
    "import pathlib"
   ]
  },
  {
   "cell_type": "markdown",
   "metadata": {
    "collapsed": false
   },
   "source": [
    "First we specify the path of the simulation from which we are going to use neutronics results such as one-group cross sections and one-group neutron flux."
   ]
  },
  {
   "cell_type": "code",
   "execution_count": 0,
   "metadata": {
    "collapsed": false
   },
   "outputs": [
   ],
   "source": [
    "path1 = path1 = pathlib.Path(__file__).parent.absolute() /'5MWe-reactor-simulation_output-folder'"
   ]
  },
  {
   "cell_type": "markdown",
   "metadata": {
    "collapsed": false
   },
   "source": [
    "Next, we need to specify the name of the BUCell in the 5-MWe reactor from this simulation in which we want to analyze isotopic ratios and fluence sensitivity. In this case, we are studying"
   ]
  },
  {
   "cell_type": "code",
   "execution_count": 0,
   "metadata": {
    "collapsed": false
   },
   "outputs": [
   ],
   "source": [
    "NAX_cell = 'Sample'"
   ]
  },
  {
   "cell_type": "markdown",
   "metadata": {
    "collapsed": false
   },
   "source": [
    "We now need to define a vector of days that indicates the length of each cycle of operation of the 5-MWe reactor.\n",
    "\n",
    "Here, burnup sequences are converted into days using the power and the IHM (Initial Heavy Metal) of the NAX_cell previously defined. Three sets of burnup sequence are considered (following different hypothesis on operation history of the 5-MWe reactor). One assumes high burnup levels, another low burnup levels, and a last one the average of both."
   ]
  },
  {
   "cell_type": "code",
   "execution_count": 0,
   "metadata": {
    "collapsed": false
   },
   "outputs": [
   ],
   "source": [
    "pow_unit_cell = 6.00000E-05\n",
    "ihm = 118.75970682995882*1E-3\n",
    "\n",
    "burnup_list_low = [0.6, 0.23, 0.22, 0.22, 0.23]\n",
    "burnup_list_high = [0.699, 0.33, 0.31, 0.31, 0.32]\n",
    "burnup_mid = [(i+j)/2 for i,j in zip(burnup_list_low, burnup_list_high)]\n",
    "\n",
    "day_list = []\n",
    "for bu in burnup_mid:\n",
    "\tday = bu*ihm/pow_unit_cell\n",
    "\tday_list.append(day)"
   ]
  },
  {
   "cell_type": "markdown",
   "metadata": {
    "collapsed": false
   },
   "source": [
    "We now create a \"reference batch\" that will be used to construct the whole operation history of the 5-MWe reactor using the previously defined list of operation cycles length. This \"reference batch\" stores relevant neutronics results that will be used to study isotopic ratios fluence sensitivity."
   ]
  },
  {
   "cell_type": "code",
   "execution_count": 0,
   "metadata": {
    "collapsed": false
   },
   "outputs": [
   ],
   "source": [
    "batch1 = nax.Batch(path1)"
   ]
  },
  {
   "cell_type": "markdown",
   "metadata": {
    "collapsed": false
   },
   "source": [
    "Using the previously defined \"reference batch\", we create a list of operation cycles where the length of each of these cycle is indicated in day_list and the neutronics parameters are taken from batch1. This constitues the operation history of the reactor."
   ]
  },
  {
   "cell_type": "code",
   "execution_count": 0,
   "metadata": {
    "collapsed": false
   },
   "outputs": [
   ],
   "source": [
    "operation_history = []\n",
    "for day in day_list:\n",
    "\tbatch = (batch1, day)\n",
    "\toperation_history.append(batch)"
   ]
  },
  {
   "cell_type": "markdown",
   "metadata": {
    "collapsed": false
   },
   "source": [
    "Finally, we call the NAX function that will deplete the NAX_cell with neutronics parameters taken from the selected simulation according to an operation history defined in operation_history"
   ]
  },
  {
   "cell_type": "code",
   "execution_count": 0,
   "metadata": {
    "collapsed": false
   },
   "outputs": [
   ],
   "source": [
    "nax.review_all_ratio_candidates(NAX_cell, operation_history, path1, 1E-3)"
   ]
  }
 ],
 "metadata": {
  "anaconda-cloud": {
  },
  "kernelspec": {
   "display_name": "Python 3 (system-wide)",
   "language": "python",
   "metadata": {
    "cocalc": {
     "description": "Python 3 programming language",
     "priority": 100,
     "url": "https://www.python.org/"
    }
   },
   "name": "python3",
   "resource_dir": "/ext/jupyter/kernels/python3"
  },
  "language_info": {
   "codemirror_mode": {
    "name": "ipython",
    "version": 3
   },
   "file_extension": ".py",
   "mimetype": "text/x-python",
   "name": "python",
   "nbconvert_exporter": "python",
   "pygments_lexer": "ipython3",
   "version": "3.8.2"
  }
 },
 "nbformat": 4,
 "nbformat_minor": 4
}