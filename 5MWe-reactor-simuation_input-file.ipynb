{
 "cells": [
  {
   "cell_type": "markdown",
   "metadata": {
    "collapsed": false
   },
   "source": [
    "# Fuel pin-cell simulation\n",
    "\n"
   ]
  },
  {
   "cell_type": "markdown",
   "metadata": {
    "collapsed": false
   },
   "source": [
    "This notebook shows the input file for modeling and simulating the 5-MWe reactor in North Korea with ONIX."
   ]
  },
  {
   "cell_type": "markdown",
   "metadata": {
    "collapsed": false
   },
   "source": [
    "## OpenMC input part"
   ]
  },
  {
   "cell_type": "code",
   "execution_count": 1,
   "metadata": {
    "collapsed": false,
    "scrolled": true
   },
   "outputs": [
    {
     "ename": "ModuleNotFoundError",
     "evalue": "No module named 'openmc'",
     "output_type": "error",
     "traceback": [
      "\u001b[0;31m---------------------------------------------------------------------------\u001b[0m",
      "\u001b[0;31mModuleNotFoundError\u001b[0m                       Traceback (most recent call last)",
      "\u001b[0;32m<ipython-input-1-51377a570dec>\u001b[0m in \u001b[0;36m<module>\u001b[0;34m\u001b[0m\n\u001b[0;32m----> 1\u001b[0;31m \u001b[0;32mimport\u001b[0m \u001b[0mopenmc\u001b[0m\u001b[0;34m\u001b[0m\u001b[0;34m\u001b[0m\u001b[0m\n\u001b[0m\u001b[1;32m      2\u001b[0m \u001b[0;32mimport\u001b[0m \u001b[0monix\u001b[0m\u001b[0;34m\u001b[0m\u001b[0;34m\u001b[0m\u001b[0m\n",
      "\u001b[0;31mModuleNotFoundError\u001b[0m: No module named 'openmc'"
     ]
    }
   ],
   "source": [
    "import openmc\n",
    "import onix"
   ]
  },
  {
   "cell_type": "markdown",
   "metadata": {
    "collapsed": false
   },
   "source": [
    "The 5-MWe is made of graphite blocks with fuel channels through which carbon dioxyde gas flows to cool the fuel rod. The fuel rod is made of natural uranium and is cladded with magnox alloy (an alloy of magnesium with small amount of aluminum and other metals)."
   ]
  },
  {
   "cell_type": "code",
   "execution_count": 0,
   "metadata": {
    "collapsed": false
   },
   "outputs": [
   ],
   "source": [
    "natU_mat = openmc.Material()\n",
    "natU_mat.temperature = 800\n",
    "natU_mat.set_density('g/cc', density = 17.98)\n",
    "natU_mat.add_nuclide('U234', d.NATURAL_ABUNDANCE['U234'])\n",
    "natU_mat.add_nuclide('U235', d.NATURAL_ABUNDANCE['U235'])\n",
    "natU_mat.add_nuclide('U238', d.NATURAL_ABUNDANCE['U238'])\n",
    "\n",
    "clad_mat = openmc.Material()\n",
    "clad_mat.temperature = 700\n",
    "Mg_frac = 98.95\n",
    "Al_frac = 1\n",
    "Be_frac = 0.05\n",
    "clad_mat.add_nuclide('Mg24',0.79*Mg_frac)\n",
    "clad_mat.add_nuclide('Mg25',0.10*Mg_frac)\n",
    "clad_mat.add_nuclide('Mg26',0.11*Mg_frac)\n",
    "clad_mat.add_nuclide('Al27',1*Al_frac)\n",
    "clad_mat.add_nuclide('Be9',1*Be_frac)\n",
    "clad_mat.set_density('g/cc', density = 1.65)\n",
    "\n",
    "mod_mat = openmc.Material()\n",
    "mod_mat.temperature = 650\n",
    "mod_mat.set_density('g/cc', density = 1.628)\n",
    "mod_mat.add_nuclide('C12',0.989)\n",
    "mod_mat.add_nuclide('C13',0.011)\n",
    "mod_mat.add_s_alpha_beta('c_Graphite')\n",
    "\n",
    "cool_mat = openmc.Material()\n",
    "cool_mat.temperature = 650\n",
    "cool_mat.set_density('g/cc', density = 1.628)\n",
    "C_frac = 33.33\n",
    "O_frac = 66.66\n",
    "cool_mat.add_nuclide('C12',C_frac*0.989)\n",
    "cool_mat.add_nuclide('C13',C_frac*0.011)\n",
    "cool_mat.add_nuclide('O16',O_frac*0.9976)\n",
    "# Instantiate a Materials collection\n",
    "materials_file = openmc.Materials([natU_mat, clad_mat, cool_mat, mod_mat, sample_mat])\n",
    "#materials_file.cross_sections = <path to cross_sections.xml>\n",
    "materials_file.cross_sections = '/home/groups/rewing1/cross-sections/lib80x_hdf5/cross_sections.xml'\n",
    "\n",
    "# Export to \"materials.xml\"\n",
    "materials_file.export_to_xml()"
   ]
  },
  {
   "cell_type": "markdown",
   "metadata": {
    "collapsed": false
   },
   "source": [
    "The following commands define the geometry and the cells.\n",
    "\n",
    "In order to measure neutronics parameters toward the edges of the fuel channels (against the wall of the graphite block), a sample cell is added. This cell allows to tally reaction rates and neutron flux for nuclear archaeology methods that would use a monitor tag located in this region."
   ]
  },
  {
   "cell_type": "code",
   "execution_count": 0,
   "metadata": {
    "collapsed": false
   },
   "outputs": [
   ],
   "source": [
    "# Create cylinders for the fuel and clad\n",
    "fuel_outer_radius = openmc.ZCylinder(x0=0.0, y0=0.0, R=1.45)\n",
    "clad_outer_radius = openmc.ZCylinder(x0=0.0, y0=0.0, R=1.50)\n",
    "coolant_outer_radius = openmc.ZCylinder(x0=0.0, y0=0.0, R=3.25)\n",
    "\n",
    "#Create cylinder of the sample\n",
    "sample_cylinder = openmc.ZCylinder(x0=0.0, y0=3.35, R=0.1)\n",
    "\n",
    "# Create boundary planes to surround the geometry\n",
    "min_x = openmc.XPlane(x0=-10, boundary_type='reflective')\n",
    "max_x = openmc.XPlane(x0=+10, boundary_type='reflective')\n",
    "min_y = openmc.YPlane(y0=-10, boundary_type='reflective')\n",
    "max_y = openmc.YPlane(y0=+10, boundary_type='reflective')\n",
    "min_z = openmc.ZPlane(z0=-0.5, boundary_type='reflective')\n",
    "max_z = openmc.ZPlane(z0=+0.5, boundary_type='reflective')\n",
    "\n",
    "# Create a Universe to encapsulate the fuel pin\n",
    "pin_cell_universe = openmc.Universe(name='Fuel Pin')\n",
    "\n",
    "# Create fuel1 Cell\n",
    "fuel_cell = openmc.Cell(name='fuel')\n",
    "fuel_cell.fill = natU_mat\n",
    "fuel_cell.region = -fuel_outer_radius\n",
    "pin_cell_universe.add_cell(fuel_cell)\n",
    "\n",
    "# Create a clad Cell for 1\n",
    "clad_cell = openmc.Cell(name='Clad')\n",
    "clad_cell.fill = clad_mat\n",
    "clad_cell.region = +fuel_outer_radius & -clad_outer_radius\n",
    "pin_cell_universe.add_cell(clad_cell)\n",
    "\n",
    "# Create a coolant Cell for 1\n",
    "cool_cell = openmc.Cell(name='Cool')\n",
    "cool_cell.fill = cool_mat\n",
    "cool_cell.region = +clad_outer_radius & - coolant_outer_radius\n",
    "pin_cell_universe.add_cell(cool_cell)\n",
    "\n",
    "# Create a moderator Cell for 1\n",
    "mod_cell = openmc.Cell(name='Mod')\n",
    "mod_cell.fill = mod_mat\n",
    "mod_cell.region = +coolant_outer_radius & +sample_cylinder\n",
    "pin_cell_universe.add_cell(mod_cell)\n",
    "\n",
    "# Create sample cell\n",
    "sample_cell = openmc.Cell(name='Sample')\n",
    "sample_cell.fill = clad_mat\n",
    "sample_cell.region = -sample_cylinder\n",
    "pin_cell_universe.add_cell(sample_cell)\n",
    "\n",
    "# Create root Cell\n",
    "root_cell = openmc.Cell(name='root cell')\n",
    "root_cell.fill = pin_cell_universe\n",
    "root_cell.region = +min_x & -max_x & +min_y & -max_y & +min_z & -max_z\n",
    "\n",
    "# Create root Universe\n",
    "root_universe = openmc.Universe(universe_id=0, name='root universe')\n",
    "root_universe.add_cell(root_cell)\n",
    "\n",
    "# Create Geometry and set root Universe\n",
    "openmc_geometry = openmc.Geometry(root_universe)\n",
    "\n",
    "# Export to \"materials.xml\"\n",
    "materials_file.export_to_xml()\n",
    "# Export to \"geometry.xml\"\n",
    "openmc_geometry.export_to_xml()"
   ]
  },
  {
   "cell_type": "markdown",
   "metadata": {
    "collapsed": false
   },
   "source": [
    "The following commands are for the simulations settings of OpenMC."
   ]
  },
  {
   "cell_type": "code",
   "execution_count": 0,
   "metadata": {
    "collapsed": false
   },
   "outputs": [
   ],
   "source": [
    "# OpenMC simulation parameters\n",
    "batches = 100\n",
    "inactive = 10\n",
    "particles = 10000\n",
    "\n",
    "# Instantiate a Settings object\n",
    "settings_file = openmc.Settings()\n",
    "settings_file.batches = batches\n",
    "settings_file.inactive = inactive\n",
    "settings_file.particles = particles\n",
    "\n",
    "# Create an initial uniform spatial source distribution over fissionable zones\n",
    "#bounds = [-0.65635, -0.65635, -0.65635, 0.65635, 0.65635, 0.65635]\n",
    "#uniform_dist = openmc.stats.Box(bounds[:3], bounds[3:], only_fissionable=True)\n",
    "point_dist = openmc.stats.Point(xyz=(0.0, 0.0, 0.0))\n",
    "settings_file.source = openmc.source.Source(space=point_dist)\n",
    "\n",
    "# Export to \"settings.xml\"\n",
    "settings_file.export_to_xml()"
   ]
  },
  {
   "cell_type": "markdown",
   "metadata": {
    "collapsed": false
   },
   "source": [
    "## ONIX input part\n",
    "\n",
    "This section describes the input commands for ONIX."
   ]
  },
  {
   "cell_type": "markdown",
   "metadata": {
    "collapsed": false
   },
   "source": [
    "### Defning a sequence\n",
    "\n",
    "As we assume that the 5-MWe reactor has never been operated to a burnup higher than 0.7 MWd/kg, we define a burnup interval up to that value. With a total active volume of approximately 166 cubic meters and a nominal thermal power output of 25 MWth, the volumic power density is set to 0.15 kW/l (other power densities yield almost identical neutronics results and therefore this value can be used for other thermal power values)."
   ]
  },
  {
   "cell_type": "code",
   "execution_count": 0,
   "metadata": {
    "collapsed": false
   },
   "outputs": [
   ],
   "source": [
    "macrostep_vector = [0.0087, 0.05, 0.1, 0.2, 0.3, 0.4, 0.5, 0.6, 0.7]\n",
    "macrostep_unit = 'MWd/kg'"
   ]
  },
  {
   "cell_type": "code",
   "execution_count": 0,
   "metadata": {
    "collapsed": false
   },
   "outputs": [
   ],
   "source": [
    "norma_vector = [0.15]*len(macrostep_vector)\n",
    "norma_unit = 'power'"
   ]
  },
  {
   "cell_type": "code",
   "execution_count": 0,
   "metadata": {
    "collapsed": false
   },
   "outputs": [
   ],
   "source": [
    "microstep_vector = [3]*len(macrostep_vector)"
   ]
  },
  {
   "cell_type": "code",
   "execution_count": 0,
   "metadata": {
    "collapsed": false
   },
   "outputs": [
   ],
   "source": [
    "sequence1 = onix.Sequence(1)\n",
    "sequence1.set_macrostep(macrostep_vector, macrostep_unit)\n",
    "sequence1.set_norma(norma_vector, norma_unit)\n",
    "sequence1.microstep_vector = microstep_vector"
   ]
  },
  {
   "cell_type": "code",
   "execution_count": 0,
   "metadata": {
    "collapsed": false
   },
   "outputs": [
   ],
   "source": [
    "sequence1.flux_approximation ='iv'"
   ]
  },
  {
   "cell_type": "code",
   "execution_count": 0,
   "metadata": {
    "collapsed": false
   },
   "outputs": [
   ],
   "source": [
    "couple = onix.couple.Couple_openmc()"
   ]
  },
  {
   "cell_type": "code",
   "execution_count": 0,
   "metadata": {
    "collapsed": false
   },
   "outputs": [
   ],
   "source": [
    "couple.set_bounding_box([-10.16, -10.16, -0.5], [10.16, 10.16, 0.5])"
   ]
  },
  {
   "cell_type": "code",
   "execution_count": 0,
   "metadata": {
    "collapsed": false
   },
   "outputs": [
   ],
   "source": [
    "couple.openmc_bin_path = <path to openmc binary>"
   ]
  },
  {
   "cell_type": "code",
   "execution_count": 0,
   "metadata": {
    "collapsed": false
   },
   "outputs": [
   ],
   "source": [
    "couple.select_bucells([fuel_cell, sample_cell])"
   ]
  },
  {
   "cell_type": "code",
   "execution_count": 0,
   "metadata": {
    "collapsed": false
   },
   "outputs": [
   ],
   "source": [
    "couple.import_openmc(root_cell)"
   ]
  },
  {
   "cell_type": "code",
   "execution_count": 0,
   "metadata": {
    "collapsed": false
   },
   "outputs": [
   ],
   "source": [
    "vol_dict = {'fuel': 6.6051, 'Sample':0.03141 ,'total volume':400}\n",
    "couple.set_vol(vol_dict)"
   ]
  },
  {
   "cell_type": "code",
   "execution_count": 0,
   "metadata": {
    "collapsed": false
   },
   "outputs": [
   ],
   "source": [
    "couple.set_sequence(sequence1)"
   ]
  },
  {
   "cell_type": "markdown",
   "metadata": {
    "collapsed": false
   },
   "source": [
    "We can finally ask ONIX to burn the system and launch the coupled simulation"
   ]
  },
  {
   "cell_type": "code",
   "execution_count": 0,
   "metadata": {
    "collapsed": false
   },
   "outputs": [
   ],
   "source": [
    "couple.burn()"
   ]
  },
  {
   "cell_type": "markdown",
   "metadata": {
    "collapsed": false
   },
   "source": [
    "Output results are going to be located in two types of folder. Per step folders include densities, power, neutron flux, burnup, one-group cross sections and burnup matrices for each macrostep, separately. The output summary folder contains aggregated output results for the whole simulation and for every macrostep."
   ]
  }
 ],
 "metadata": {
  "anaconda-cloud": {
  },
  "kernelspec": {
   "display_name": "Python 3 (system-wide)",
   "language": "python",
   "metadata": {
    "cocalc": {
     "description": "Python 3 programming language",
     "priority": 100,
     "url": "https://www.python.org/"
    }
   },
   "name": "python3",
   "resource_dir": "/ext/jupyter/kernels/python3"
  },
  "language_info": {
   "codemirror_mode": {
    "name": "ipython",
    "version": 3
   },
   "file_extension": ".py",
   "mimetype": "text/x-python",
   "name": "python",
   "nbconvert_exporter": "python",
   "pygments_lexer": "ipython3",
   "version": "3.8.2"
  }
 },
 "nbformat": 4,
 "nbformat_minor": 4
}